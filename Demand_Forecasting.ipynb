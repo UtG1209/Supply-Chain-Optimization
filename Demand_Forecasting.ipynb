{
  "nbformat": 4,
  "nbformat_minor": 0,
  "metadata": {
    "colab": {
      "provenance": [],
      "authorship_tag": "ABX9TyPUxOrAVPMKPJN8q9/9VAOv",
      "include_colab_link": true
    },
    "kernelspec": {
      "name": "python3",
      "display_name": "Python 3"
    },
    "language_info": {
      "name": "python"
    }
  },
  "cells": [
    {
      "cell_type": "markdown",
      "metadata": {
        "id": "view-in-github",
        "colab_type": "text"
      },
      "source": [
        "<a href=\"https://colab.research.google.com/github/UtG1209/Supply-Chain-Optimization/blob/main/Demand_Forecasting.ipynb\" target=\"_parent\"><img src=\"https://colab.research.google.com/assets/colab-badge.svg\" alt=\"Open In Colab\"/></a>"
      ]
    },
    {
      "cell_type": "code",
      "execution_count": null,
      "metadata": {
        "id": "bt9YYSMCbu-y"
      },
      "outputs": [],
      "source": [
        "import pandas as pd\n",
        "import numpy as np\n",
        "import matplotlib.pyplot as plt\n",
        "import seaborn as sns\n",
        "import xgboost as xgb\n",
        "from sklearn.preprocessing import StandardScaler\n",
        "from sklearn.metrics import mean_squared_error\n",
        "from sklearn.metrics import mean_absolute_error\n",
        "from sklearn.metrics import r2_score\n",
        "from sklearn.model_selection import train_test_split\n",
        "from matplotlib.patches import Rectangle"
      ]
    },
    {
      "cell_type": "code",
      "source": [
        "# Import training and test data\n",
        "train = pd.read_csv('train.csv')\n",
        "test = pd.read_csv('test.csv')\n"
      ],
      "metadata": {
        "id": "JgV1m334qs1I"
      },
      "execution_count": null,
      "outputs": []
    },
    {
      "cell_type": "code",
      "source": [
        "dates = train['date']\n",
        "sales = train['sales']"
      ],
      "metadata": {
        "id": "Z5mgildQBYu_"
      },
      "execution_count": null,
      "outputs": []
    },
    {
      "cell_type": "code",
      "source": [
        "def date_features(df):\n",
        "    # Date Features\n",
        "    df['date'] = pd.to_datetime(df['date'])\n",
        "    df['year'] = df.date.dt.year\n",
        "    df['month'] = df.date.dt.month\n",
        "    df['day'] = df.date.dt.day\n",
        "    df['dayofyear'] = df.date.dt.dayofyear\n",
        "    df['dayofweek'] = df.date.dt.dayofweek\n",
        "    df['weekofyear'] = df.date.dt.isocalendar().week\n",
        "\n",
        "    # Additionnal Data Features\n",
        "    df['day^year'] = np.log((np.log(df['dayofyear'] + 1)) ** (df['year'] - 2000))\n",
        "\n",
        "    # Drop date\n",
        "    df.drop('date', axis=1, inplace=True)\n",
        "\n",
        "    return df"
      ],
      "metadata": {
        "id": "lMIjCjCgq7o5"
      },
      "execution_count": null,
      "outputs": []
    },
    {
      "cell_type": "code",
      "source": [
        "# Dates Features for Train, Test\n",
        "train, test = date_features(train), date_features(test)"
      ],
      "metadata": {
        "id": "Igkk0f0wrDvl"
      },
      "execution_count": null,
      "outputs": []
    },
    {
      "cell_type": "code",
      "source": [
        "# Daily Average, Monthly Average for train\n",
        "train['daily_avg']  = train.groupby(['item','store','dayofweek'])['sales'].transform('mean')\n",
        "train['monthly_avg'] = train.groupby(['item','store','month'])['sales'].transform('mean')\n",
        "train = train.dropna()\n",
        "\n",
        "# Average sales for Day_of_week = d per Item,Store\n",
        "daymonth_avg = train.groupby(['item','store','dayofweek'])['sales'].mean().reset_index()\n",
        "# Average sales for Month = m per Item,Store\n",
        "monthly_avg = train.groupby(['item','store','month'])['sales'].mean().reset_index()"
      ],
      "metadata": {
        "id": "YdmoeZVnsxgO"
      },
      "execution_count": null,
      "outputs": []
    },
    {
      "cell_type": "code",
      "source": [
        "# Merge Test with Daily Avg, Monthly Avg\n",
        "def merge(df1, df2, col,col_name):\n",
        "\n",
        "    df1 =pd.merge(df1, df2, how='left', on=None, left_on=col, right_on=col,left_index=False, right_index=False, sort=True,copy=True, indicator=False)\n",
        "\n",
        "    df1 = df1.rename(columns={'sales':col_name})\n",
        "    return df1\n",
        "\n",
        "# Add Daily_avg and Monthly_avg features to test\n",
        "test = merge(test, daymonth_avg,['item','store','dayofweek'],'daily_avg')\n",
        "test = merge(test, monthly_avg,['item','store','month'],'monthly_avg')"
      ],
      "metadata": {
        "id": "jCw7JuCAtBcl"
      },
      "execution_count": null,
      "outputs": []
    },
    {
      "cell_type": "code",
      "source": [
        "# Sales Rolling mean sequence per item\n",
        "rolling_10 = train.groupby(['item'])['sales'].rolling(10).mean().reset_index().drop('level_1', axis=1)\n",
        "train['rolling_mean'] = rolling_10['sales']\n",
        "train = train.dropna()\n",
        "a = train['rolling_mean']\n",
        "a.isna().sum()\n"
      ],
      "metadata": {
        "colab": {
          "base_uri": "https://localhost:8080/"
        },
        "id": "96T45b1KuraA",
        "outputId": "bb5c47e0-0b3b-42aa-b9a7-5271fcb1e475"
      },
      "execution_count": null,
      "outputs": [
        {
          "output_type": "execute_result",
          "data": {
            "text/plain": [
              "0"
            ]
          },
          "metadata": {},
          "execution_count": 578
        }
      ]
    },
    {
      "cell_type": "code",
      "source": [
        "# 90 last days of training rolling mean sequence added to test data\n",
        "rolling_last90 = train.groupby(['item','store'])['rolling_mean'].tail(90).copy()\n",
        "test['rolling_mean'] = rolling_last90.reset_index().drop('index', axis=1)\n",
        "a = test['rolling_mean']\n",
        "a.isna().sum()"
      ],
      "metadata": {
        "colab": {
          "base_uri": "https://localhost:8080/"
        },
        "id": "THm1YiMBu3fA",
        "outputId": "e446cee7-7f1d-4449-fb37-8c1c923476c2"
      },
      "execution_count": null,
      "outputs": [
        {
          "output_type": "execute_result",
          "data": {
            "text/plain": [
              "0"
            ]
          },
          "metadata": {},
          "execution_count": 579
        }
      ]
    },
    {
      "cell_type": "code",
      "source": [
        "# Shifting rolling mean 3 months\n",
        "train['rolling_mean'] = train.groupby(['item'])['rolling_mean'].shift(90) # Create a feature with rolling mean of day - 90\n",
        "train.head()\n",
        "train = train.dropna()\n",
        "a = train['rolling_mean']\n",
        "a.isna().sum()"
      ],
      "metadata": {
        "colab": {
          "base_uri": "https://localhost:8080/"
        },
        "id": "XTIbmWuGvig5",
        "outputId": "eca9c799-4d15-4ee2-e147-215f3a754378"
      },
      "execution_count": null,
      "outputs": [
        {
          "output_type": "execute_result",
          "data": {
            "text/plain": [
              "0"
            ]
          },
          "metadata": {},
          "execution_count": 580
        }
      ]
    },
    {
      "cell_type": "code",
      "source": [
        "train.head()"
      ],
      "metadata": {
        "colab": {
          "base_uri": "https://localhost:8080/",
          "height": 226
        },
        "id": "WMQZyG3WXnqG",
        "outputId": "14ca5901-9179-431a-c60c-40105b75348c"
      },
      "execution_count": null,
      "outputs": [
        {
          "output_type": "execute_result",
          "data": {
            "text/plain": [
              "     store  item  sales  year  month  day  dayofyear  dayofweek  weekofyear  \\\n",
              "99       1     1     19  2013      4   10        100          2          15   \n",
              "100      1     1     16  2013      4   11        101          3          15   \n",
              "101      1     1     18  2013      4   12        102          4          15   \n",
              "102      1     1     17  2013      4   13        103          5          15   \n",
              "103      1     1     26  2013      4   14        104          6          15   \n",
              "\n",
              "      day^year  daily_avg  monthly_avg  rolling_mean  \n",
              "99   19.881394  18.793103    20.786667          11.3  \n",
              "100  19.909116  19.452107    20.786667          10.9  \n",
              "101  19.936510  21.015326    20.786667          10.5  \n",
              "102  19.963583  22.973180    20.786667          10.1  \n",
              "103  19.990341  23.796935    20.786667          10.0  "
            ],
            "text/html": [
              "\n",
              "  <div id=\"df-249fe3fd-1efe-494d-9d01-5cf28d2cab9c\" class=\"colab-df-container\">\n",
              "    <div>\n",
              "<style scoped>\n",
              "    .dataframe tbody tr th:only-of-type {\n",
              "        vertical-align: middle;\n",
              "    }\n",
              "\n",
              "    .dataframe tbody tr th {\n",
              "        vertical-align: top;\n",
              "    }\n",
              "\n",
              "    .dataframe thead th {\n",
              "        text-align: right;\n",
              "    }\n",
              "</style>\n",
              "<table border=\"1\" class=\"dataframe\">\n",
              "  <thead>\n",
              "    <tr style=\"text-align: right;\">\n",
              "      <th></th>\n",
              "      <th>store</th>\n",
              "      <th>item</th>\n",
              "      <th>sales</th>\n",
              "      <th>year</th>\n",
              "      <th>month</th>\n",
              "      <th>day</th>\n",
              "      <th>dayofyear</th>\n",
              "      <th>dayofweek</th>\n",
              "      <th>weekofyear</th>\n",
              "      <th>day^year</th>\n",
              "      <th>daily_avg</th>\n",
              "      <th>monthly_avg</th>\n",
              "      <th>rolling_mean</th>\n",
              "    </tr>\n",
              "  </thead>\n",
              "  <tbody>\n",
              "    <tr>\n",
              "      <th>99</th>\n",
              "      <td>1</td>\n",
              "      <td>1</td>\n",
              "      <td>19</td>\n",
              "      <td>2013</td>\n",
              "      <td>4</td>\n",
              "      <td>10</td>\n",
              "      <td>100</td>\n",
              "      <td>2</td>\n",
              "      <td>15</td>\n",
              "      <td>19.881394</td>\n",
              "      <td>18.793103</td>\n",
              "      <td>20.786667</td>\n",
              "      <td>11.3</td>\n",
              "    </tr>\n",
              "    <tr>\n",
              "      <th>100</th>\n",
              "      <td>1</td>\n",
              "      <td>1</td>\n",
              "      <td>16</td>\n",
              "      <td>2013</td>\n",
              "      <td>4</td>\n",
              "      <td>11</td>\n",
              "      <td>101</td>\n",
              "      <td>3</td>\n",
              "      <td>15</td>\n",
              "      <td>19.909116</td>\n",
              "      <td>19.452107</td>\n",
              "      <td>20.786667</td>\n",
              "      <td>10.9</td>\n",
              "    </tr>\n",
              "    <tr>\n",
              "      <th>101</th>\n",
              "      <td>1</td>\n",
              "      <td>1</td>\n",
              "      <td>18</td>\n",
              "      <td>2013</td>\n",
              "      <td>4</td>\n",
              "      <td>12</td>\n",
              "      <td>102</td>\n",
              "      <td>4</td>\n",
              "      <td>15</td>\n",
              "      <td>19.936510</td>\n",
              "      <td>21.015326</td>\n",
              "      <td>20.786667</td>\n",
              "      <td>10.5</td>\n",
              "    </tr>\n",
              "    <tr>\n",
              "      <th>102</th>\n",
              "      <td>1</td>\n",
              "      <td>1</td>\n",
              "      <td>17</td>\n",
              "      <td>2013</td>\n",
              "      <td>4</td>\n",
              "      <td>13</td>\n",
              "      <td>103</td>\n",
              "      <td>5</td>\n",
              "      <td>15</td>\n",
              "      <td>19.963583</td>\n",
              "      <td>22.973180</td>\n",
              "      <td>20.786667</td>\n",
              "      <td>10.1</td>\n",
              "    </tr>\n",
              "    <tr>\n",
              "      <th>103</th>\n",
              "      <td>1</td>\n",
              "      <td>1</td>\n",
              "      <td>26</td>\n",
              "      <td>2013</td>\n",
              "      <td>4</td>\n",
              "      <td>14</td>\n",
              "      <td>104</td>\n",
              "      <td>6</td>\n",
              "      <td>15</td>\n",
              "      <td>19.990341</td>\n",
              "      <td>23.796935</td>\n",
              "      <td>20.786667</td>\n",
              "      <td>10.0</td>\n",
              "    </tr>\n",
              "  </tbody>\n",
              "</table>\n",
              "</div>\n",
              "    <div class=\"colab-df-buttons\">\n",
              "\n",
              "  <div class=\"colab-df-container\">\n",
              "    <button class=\"colab-df-convert\" onclick=\"convertToInteractive('df-249fe3fd-1efe-494d-9d01-5cf28d2cab9c')\"\n",
              "            title=\"Convert this dataframe to an interactive table.\"\n",
              "            style=\"display:none;\">\n",
              "\n",
              "  <svg xmlns=\"http://www.w3.org/2000/svg\" height=\"24px\" viewBox=\"0 -960 960 960\">\n",
              "    <path d=\"M120-120v-720h720v720H120Zm60-500h600v-160H180v160Zm220 220h160v-160H400v160Zm0 220h160v-160H400v160ZM180-400h160v-160H180v160Zm440 0h160v-160H620v160ZM180-180h160v-160H180v160Zm440 0h160v-160H620v160Z\"/>\n",
              "  </svg>\n",
              "    </button>\n",
              "\n",
              "  <style>\n",
              "    .colab-df-container {\n",
              "      display:flex;\n",
              "      gap: 12px;\n",
              "    }\n",
              "\n",
              "    .colab-df-convert {\n",
              "      background-color: #E8F0FE;\n",
              "      border: none;\n",
              "      border-radius: 50%;\n",
              "      cursor: pointer;\n",
              "      display: none;\n",
              "      fill: #1967D2;\n",
              "      height: 32px;\n",
              "      padding: 0 0 0 0;\n",
              "      width: 32px;\n",
              "    }\n",
              "\n",
              "    .colab-df-convert:hover {\n",
              "      background-color: #E2EBFA;\n",
              "      box-shadow: 0px 1px 2px rgba(60, 64, 67, 0.3), 0px 1px 3px 1px rgba(60, 64, 67, 0.15);\n",
              "      fill: #174EA6;\n",
              "    }\n",
              "\n",
              "    .colab-df-buttons div {\n",
              "      margin-bottom: 4px;\n",
              "    }\n",
              "\n",
              "    [theme=dark] .colab-df-convert {\n",
              "      background-color: #3B4455;\n",
              "      fill: #D2E3FC;\n",
              "    }\n",
              "\n",
              "    [theme=dark] .colab-df-convert:hover {\n",
              "      background-color: #434B5C;\n",
              "      box-shadow: 0px 1px 3px 1px rgba(0, 0, 0, 0.15);\n",
              "      filter: drop-shadow(0px 1px 2px rgba(0, 0, 0, 0.3));\n",
              "      fill: #FFFFFF;\n",
              "    }\n",
              "  </style>\n",
              "\n",
              "    <script>\n",
              "      const buttonEl =\n",
              "        document.querySelector('#df-249fe3fd-1efe-494d-9d01-5cf28d2cab9c button.colab-df-convert');\n",
              "      buttonEl.style.display =\n",
              "        google.colab.kernel.accessAllowed ? 'block' : 'none';\n",
              "\n",
              "      async function convertToInteractive(key) {\n",
              "        const element = document.querySelector('#df-249fe3fd-1efe-494d-9d01-5cf28d2cab9c');\n",
              "        const dataTable =\n",
              "          await google.colab.kernel.invokeFunction('convertToInteractive',\n",
              "                                                    [key], {});\n",
              "        if (!dataTable) return;\n",
              "\n",
              "        const docLinkHtml = 'Like what you see? Visit the ' +\n",
              "          '<a target=\"_blank\" href=https://colab.research.google.com/notebooks/data_table.ipynb>data table notebook</a>'\n",
              "          + ' to learn more about interactive tables.';\n",
              "        element.innerHTML = '';\n",
              "        dataTable['output_type'] = 'display_data';\n",
              "        await google.colab.output.renderOutput(dataTable, element);\n",
              "        const docLink = document.createElement('div');\n",
              "        docLink.innerHTML = docLinkHtml;\n",
              "        element.appendChild(docLink);\n",
              "      }\n",
              "    </script>\n",
              "  </div>\n",
              "\n",
              "\n",
              "<div id=\"df-0ca545d4-9954-4628-b75b-f0d988302665\">\n",
              "  <button class=\"colab-df-quickchart\" onclick=\"quickchart('df-0ca545d4-9954-4628-b75b-f0d988302665')\"\n",
              "            title=\"Suggest charts\"\n",
              "            style=\"display:none;\">\n",
              "\n",
              "<svg xmlns=\"http://www.w3.org/2000/svg\" height=\"24px\"viewBox=\"0 0 24 24\"\n",
              "     width=\"24px\">\n",
              "    <g>\n",
              "        <path d=\"M19 3H5c-1.1 0-2 .9-2 2v14c0 1.1.9 2 2 2h14c1.1 0 2-.9 2-2V5c0-1.1-.9-2-2-2zM9 17H7v-7h2v7zm4 0h-2V7h2v10zm4 0h-2v-4h2v4z\"/>\n",
              "    </g>\n",
              "</svg>\n",
              "  </button>\n",
              "\n",
              "<style>\n",
              "  .colab-df-quickchart {\n",
              "      --bg-color: #E8F0FE;\n",
              "      --fill-color: #1967D2;\n",
              "      --hover-bg-color: #E2EBFA;\n",
              "      --hover-fill-color: #174EA6;\n",
              "      --disabled-fill-color: #AAA;\n",
              "      --disabled-bg-color: #DDD;\n",
              "  }\n",
              "\n",
              "  [theme=dark] .colab-df-quickchart {\n",
              "      --bg-color: #3B4455;\n",
              "      --fill-color: #D2E3FC;\n",
              "      --hover-bg-color: #434B5C;\n",
              "      --hover-fill-color: #FFFFFF;\n",
              "      --disabled-bg-color: #3B4455;\n",
              "      --disabled-fill-color: #666;\n",
              "  }\n",
              "\n",
              "  .colab-df-quickchart {\n",
              "    background-color: var(--bg-color);\n",
              "    border: none;\n",
              "    border-radius: 50%;\n",
              "    cursor: pointer;\n",
              "    display: none;\n",
              "    fill: var(--fill-color);\n",
              "    height: 32px;\n",
              "    padding: 0;\n",
              "    width: 32px;\n",
              "  }\n",
              "\n",
              "  .colab-df-quickchart:hover {\n",
              "    background-color: var(--hover-bg-color);\n",
              "    box-shadow: 0 1px 2px rgba(60, 64, 67, 0.3), 0 1px 3px 1px rgba(60, 64, 67, 0.15);\n",
              "    fill: var(--button-hover-fill-color);\n",
              "  }\n",
              "\n",
              "  .colab-df-quickchart-complete:disabled,\n",
              "  .colab-df-quickchart-complete:disabled:hover {\n",
              "    background-color: var(--disabled-bg-color);\n",
              "    fill: var(--disabled-fill-color);\n",
              "    box-shadow: none;\n",
              "  }\n",
              "\n",
              "  .colab-df-spinner {\n",
              "    border: 2px solid var(--fill-color);\n",
              "    border-color: transparent;\n",
              "    border-bottom-color: var(--fill-color);\n",
              "    animation:\n",
              "      spin 1s steps(1) infinite;\n",
              "  }\n",
              "\n",
              "  @keyframes spin {\n",
              "    0% {\n",
              "      border-color: transparent;\n",
              "      border-bottom-color: var(--fill-color);\n",
              "      border-left-color: var(--fill-color);\n",
              "    }\n",
              "    20% {\n",
              "      border-color: transparent;\n",
              "      border-left-color: var(--fill-color);\n",
              "      border-top-color: var(--fill-color);\n",
              "    }\n",
              "    30% {\n",
              "      border-color: transparent;\n",
              "      border-left-color: var(--fill-color);\n",
              "      border-top-color: var(--fill-color);\n",
              "      border-right-color: var(--fill-color);\n",
              "    }\n",
              "    40% {\n",
              "      border-color: transparent;\n",
              "      border-right-color: var(--fill-color);\n",
              "      border-top-color: var(--fill-color);\n",
              "    }\n",
              "    60% {\n",
              "      border-color: transparent;\n",
              "      border-right-color: var(--fill-color);\n",
              "    }\n",
              "    80% {\n",
              "      border-color: transparent;\n",
              "      border-right-color: var(--fill-color);\n",
              "      border-bottom-color: var(--fill-color);\n",
              "    }\n",
              "    90% {\n",
              "      border-color: transparent;\n",
              "      border-bottom-color: var(--fill-color);\n",
              "    }\n",
              "  }\n",
              "</style>\n",
              "\n",
              "  <script>\n",
              "    async function quickchart(key) {\n",
              "      const quickchartButtonEl =\n",
              "        document.querySelector('#' + key + ' button');\n",
              "      quickchartButtonEl.disabled = true;  // To prevent multiple clicks.\n",
              "      quickchartButtonEl.classList.add('colab-df-spinner');\n",
              "      try {\n",
              "        const charts = await google.colab.kernel.invokeFunction(\n",
              "            'suggestCharts', [key], {});\n",
              "      } catch (error) {\n",
              "        console.error('Error during call to suggestCharts:', error);\n",
              "      }\n",
              "      quickchartButtonEl.classList.remove('colab-df-spinner');\n",
              "      quickchartButtonEl.classList.add('colab-df-quickchart-complete');\n",
              "    }\n",
              "    (() => {\n",
              "      let quickchartButtonEl =\n",
              "        document.querySelector('#df-0ca545d4-9954-4628-b75b-f0d988302665 button');\n",
              "      quickchartButtonEl.style.display =\n",
              "        google.colab.kernel.accessAllowed ? 'block' : 'none';\n",
              "    })();\n",
              "  </script>\n",
              "</div>\n",
              "\n",
              "    </div>\n",
              "  </div>\n"
            ],
            "application/vnd.google.colaboratory.intrinsic+json": {
              "type": "dataframe",
              "variable_name": "train"
            }
          },
          "metadata": {},
          "execution_count": 581
        }
      ]
    },
    {
      "cell_type": "code",
      "source": [],
      "metadata": {
        "id": "VKyMuXW3KQKR"
      },
      "execution_count": null,
      "outputs": []
    },
    {
      "cell_type": "code",
      "source": [
        "# Calculate the correlation matrix excluding non-numeric columns\n",
        "matrix = train.select_dtypes(include=[np.number]).corr()\n",
        "\n",
        "#extracting variable names\n",
        "variables = []\n",
        "for i in matrix.columns:\n",
        "  variables.append(i)\n",
        "N = len(variables)\n",
        "\n",
        "fig, ax = plt.subplots(figsize=(10, 10))\n",
        "ax = sns.heatmap(matrix, cmap='coolwarm', annot=True, linewidths=.2,xticklabels=variables, yticklabels=variables,fmt='.2f')\n",
        "\n",
        "wanted_label = 'sales'\n",
        "wanted_index = variables.index(wanted_label)\n",
        "x, y, w, h = 0, wanted_index, N, 1\n",
        "for _ in range(2):\n",
        "    ax.add_patch(Rectangle((x, y), w, h, fill=False, edgecolor='crimson', lw=4, clip_on=False))\n",
        "    x, y = y, x # exchange the roles of x and y\n",
        "    w, h = h, w # exchange the roles of w and h\n",
        "\n",
        "\n",
        "# Adding labels to the matrix\n",
        "plt.xticks(range(len(matrix)), variables, rotation=45, ha='right')\n",
        "plt.yticks(range(len(matrix)), variables)\n",
        "ax.set_aspect(\"equal\")\n",
        "# Display the plot\n",
        "plt.show()"
      ],
      "metadata": {
        "colab": {
          "base_uri": "https://localhost:8080/",
          "height": 820
        },
        "id": "XHy1P6s82DUt",
        "outputId": "67519613-30c3-48f8-bc43-94f033a2677e"
      },
      "execution_count": null,
      "outputs": [
        {
          "output_type": "display_data",
          "data": {
            "text/plain": [
              "<Figure size 1000x1000 with 2 Axes>"
            ],
            "image/png": "[encoded data removed]"
          },
          "metadata": {}
        }
      ]
    },
    {
      "cell_type": "code",
      "source": [
        "# removing low co relation columns\n",
        "for df in [train, test]:\n",
        "  df.drop(['dayofyear', 'weekofyear', 'daily_avg', 'day', 'month', 'item', 'store',], axis=1, inplace=True)"
      ],
      "metadata": {
        "id": "ljAkrz2S-Z7K"
      },
      "execution_count": null,
      "outputs": []
    },
    {
      "cell_type": "code",
      "source": [
        "train.std()"
      ],
      "metadata": {
        "colab": {
          "base_uri": "https://localhost:8080/"
        },
        "collapsed": true,
        "id": "eQPdKGtqGW8n",
        "outputId": "6bfe7f4a-1389-4977-e50e-b848a0f6acfd"
      },
      "execution_count": null,
      "outputs": [
        {
          "output_type": "execute_result",
          "data": {
            "text/plain": [
              "sales           28.815751\n",
              "year             1.410113\n",
              "dayofweek        1.999312\n",
              "day^year         4.424183\n",
              "monthly_avg     26.255270\n",
              "rolling_mean    26.957906\n",
              "dtype: float64"
            ]
          },
          "metadata": {},
          "execution_count": 584
        }
      ]
    },
    {
      "cell_type": "code",
      "source": [
        "train.mean()"
      ],
      "metadata": {
        "colab": {
          "base_uri": "https://localhost:8080/"
        },
        "collapsed": true,
        "id": "0XyY-K-DGvGn",
        "outputId": "d67cb91e-9d59-4d2e-cb2b-8d05853fe647"
      },
      "execution_count": null,
      "outputs": [
        {
          "output_type": "execute_result",
          "data": {
            "text/plain": [
              "sales             52.362955\n",
              "year            2015.011453\n",
              "dayofweek          3.001762\n",
              "day^year          23.569737\n",
              "monthly_avg       52.327734\n",
              "rolling_mean      52.208570\n",
              "dtype: float64"
            ]
          },
          "metadata": {},
          "execution_count": 585
        }
      ]
    },
    {
      "cell_type": "code",
      "source": [
        "test.mean()"
      ],
      "metadata": {
        "colab": {
          "base_uri": "https://localhost:8080/"
        },
        "collapsed": true,
        "id": "YpSkJTLAGytw",
        "outputId": "e3ce0b9e-43a9-4163-e320-0fca9c25be92"
      },
      "execution_count": null,
      "outputs": [
        {
          "output_type": "execute_result",
          "data": {
            "text/plain": [
              "id              22499.500000\n",
              "year             2018.000000\n",
              "dayofweek           2.966667\n",
              "day^year           22.245786\n",
              "monthly_avg        40.781417\n",
              "rolling_mean       55.315978\n",
              "dtype: float64"
            ]
          },
          "metadata": {},
          "execution_count": 586
        }
      ]
    },
    {
      "cell_type": "code",
      "source": [
        "test.std()"
      ],
      "metadata": {
        "colab": {
          "base_uri": "https://localhost:8080/"
        },
        "collapsed": true,
        "id": "C540uWbqGcpF",
        "outputId": "f30e6464-9cc4-455f-8017-ab6d4362263b"
      },
      "execution_count": null,
      "outputs": [
        {
          "output_type": "execute_result",
          "data": {
            "text/plain": [
              "id              12990.525394\n",
              "year                0.000000\n",
              "dayofweek           1.985805\n",
              "day^year            5.787581\n",
              "monthly_avg        19.559419\n",
              "rolling_mean       26.739010\n",
              "dtype: float64"
            ]
          },
          "metadata": {},
          "execution_count": 587
        }
      ]
    },
    {
      "cell_type": "code",
      "source": [
        "X_train = train.drop('sales', axis=1).dropna()\n",
        "y_train = train['sales']\n",
        "# Test Data\n",
        "test.sort_values(by=['id'], inplace=True)\n",
        "X_test = test.drop('id', axis=1)"
      ],
      "metadata": {
        "id": "zi60zFrzYVcW"
      },
      "execution_count": null,
      "outputs": []
    },
    {
      "cell_type": "code",
      "source": [
        "X_train.head()"
      ],
      "metadata": {
        "colab": {
          "base_uri": "https://localhost:8080/",
          "height": 206
        },
        "collapsed": true,
        "id": "lWOdojkpYvIm",
        "outputId": "113a9fb7-4ad3-4ce3-c1c0-4b3456ac4967"
      },
      "execution_count": null,
      "outputs": [
        {
          "output_type": "execute_result",
          "data": {
            "text/plain": [
              "     year  dayofweek   day^year  monthly_avg  rolling_mean\n",
              "99   2013          2  19.881394    20.786667          11.3\n",
              "100  2013          3  19.909116    20.786667          10.9\n",
              "101  2013          4  19.936510    20.786667          10.5\n",
              "102  2013          5  19.963583    20.786667          10.1\n",
              "103  2013          6  19.990341    20.786667          10.0"
            ],
            "text/html": [
              "\n",
              "  <div id=\"df-960c0b61-6f43-48d9-ab87-1d08bad136fd\" class=\"colab-df-container\">\n",
              "    <div>\n",
              "<style scoped>\n",
              "    .dataframe tbody tr th:only-of-type {\n",
              "        vertical-align: middle;\n",
              "    }\n",
              "\n",
              "    .dataframe tbody tr th {\n",
              "        vertical-align: top;\n",
              "    }\n",
              "\n",
              "    .dataframe thead th {\n",
              "        text-align: right;\n",
              "    }\n",
              "</style>\n",
              "<table border=\"1\" class=\"dataframe\">\n",
              "  <thead>\n",
              "    <tr style=\"text-align: right;\">\n",
              "      <th></th>\n",
              "      <th>year</th>\n",
              "      <th>dayofweek</th>\n",
              "      <th>day^year</th>\n",
              "      <th>monthly_avg</th>\n",
              "      <th>rolling_mean</th>\n",
              "    </tr>\n",
              "  </thead>\n",
              "  <tbody>\n",
              "    <tr>\n",
              "      <th>99</th>\n",
              "      <td>2013</td>\n",
              "      <td>2</td>\n",
              "      <td>19.881394</td>\n",
              "      <td>20.786667</td>\n",
              "      <td>11.3</td>\n",
              "    </tr>\n",
              "    <tr>\n",
              "      <th>100</th>\n",
              "      <td>2013</td>\n",
              "      <td>3</td>\n",
              "      <td>19.909116</td>\n",
              "      <td>20.786667</td>\n",
              "      <td>10.9</td>\n",
              "    </tr>\n",
              "    <tr>\n",
              "      <th>101</th>\n",
              "      <td>2013</td>\n",
              "      <td>4</td>\n",
              "      <td>19.936510</td>\n",
              "      <td>20.786667</td>\n",
              "      <td>10.5</td>\n",
              "    </tr>\n",
              "    <tr>\n",
              "      <th>102</th>\n",
              "      <td>2013</td>\n",
              "      <td>5</td>\n",
              "      <td>19.963583</td>\n",
              "      <td>20.786667</td>\n",
              "      <td>10.1</td>\n",
              "    </tr>\n",
              "    <tr>\n",
              "      <th>103</th>\n",
              "      <td>2013</td>\n",
              "      <td>6</td>\n",
              "      <td>19.990341</td>\n",
              "      <td>20.786667</td>\n",
              "      <td>10.0</td>\n",
              "    </tr>\n",
              "  </tbody>\n",
              "</table>\n",
              "</div>\n",
              "    <div class=\"colab-df-buttons\">\n",
              "\n",
              "  <div class=\"colab-df-container\">\n",
              "    <button class=\"colab-df-convert\" onclick=\"convertToInteractive('df-960c0b61-6f43-48d9-ab87-1d08bad136fd')\"\n",
              "            title=\"Convert this dataframe to an interactive table.\"\n",
              "            style=\"display:none;\">\n",
              "\n",
              "  <svg xmlns=\"http://www.w3.org/2000/svg\" height=\"24px\" viewBox=\"0 -960 960 960\">\n",
              "    <path d=\"M120-120v-720h720v720H120Zm60-500h600v-160H180v160Zm220 220h160v-160H400v160Zm0 220h160v-160H400v160ZM180-400h160v-160H180v160Zm440 0h160v-160H620v160ZM180-180h160v-160H180v160Zm440 0h160v-160H620v160Z\"/>\n",
              "  </svg>\n",
              "    </button>\n",
              "\n",
              "  <style>\n",
              "    .colab-df-container {\n",
              "      display:flex;\n",
              "      gap: 12px;\n",
              "    }\n",
              "\n",
              "    .colab-df-convert {\n",
              "      background-color: #E8F0FE;\n",
              "      border: none;\n",
              "      border-radius: 50%;\n",
              "      cursor: pointer;\n",
              "      display: none;\n",
              "      fill: #1967D2;\n",
              "      height: 32px;\n",
              "      padding: 0 0 0 0;\n",
              "      width: 32px;\n",
              "    }\n",
              "\n",
              "    .colab-df-convert:hover {\n",
              "      background-color: #E2EBFA;\n",
              "      box-shadow: 0px 1px 2px rgba(60, 64, 67, 0.3), 0px 1px 3px 1px rgba(60, 64, 67, 0.15);\n",
              "      fill: #174EA6;\n",
              "    }\n",
              "\n",
              "    .colab-df-buttons div {\n",
              "      margin-bottom: 4px;\n",
              "    }\n",
              "\n",
              "    [theme=dark] .colab-df-convert {\n",
              "      background-color: #3B4455;\n",
              "      fill: #D2E3FC;\n",
              "    }\n",
              "\n",
              "    [theme=dark] .colab-df-convert:hover {\n",
              "      background-color: #434B5C;\n",
              "      box-shadow: 0px 1px 3px 1px rgba(0, 0, 0, 0.15);\n",
              "      filter: drop-shadow(0px 1px 2px rgba(0, 0, 0, 0.3));\n",
              "      fill: #FFFFFF;\n",
              "    }\n",
              "  </style>\n",
              "\n",
              "    <script>\n",
              "      const buttonEl =\n",
              "        document.querySelector('#df-960c0b61-6f43-48d9-ab87-1d08bad136fd button.colab-df-convert');\n",
              "      buttonEl.style.display =\n",
              "        google.colab.kernel.accessAllowed ? 'block' : 'none';\n",
              "\n",
              "      async function convertToInteractive(key) {\n",
              "        const element = document.querySelector('#df-960c0b61-6f43-48d9-ab87-1d08bad136fd');\n",
              "        const dataTable =\n",
              "          await google.colab.kernel.invokeFunction('convertToInteractive',\n",
              "                                                    [key], {});\n",
              "        if (!dataTable) return;\n",
              "\n",
              "        const docLinkHtml = 'Like what you see? Visit the ' +\n",
              "          '<a target=\"_blank\" href=https://colab.research.google.com/notebooks/data_table.ipynb>data table notebook</a>'\n",
              "          + ' to learn more about interactive tables.';\n",
              "        element.innerHTML = '';\n",
              "        dataTable['output_type'] = 'display_data';\n",
              "        await google.colab.output.renderOutput(dataTable, element);\n",
              "        const docLink = document.createElement('div');\n",
              "        docLink.innerHTML = docLinkHtml;\n",
              "        element.appendChild(docLink);\n",
              "      }\n",
              "    </script>\n",
              "  </div>\n",
              "\n",
              "\n",
              "<div id=\"df-bc673c94-bfe1-4495-8b4d-afccc3c266ae\">\n",
              "  <button class=\"colab-df-quickchart\" onclick=\"quickchart('df-bc673c94-bfe1-4495-8b4d-afccc3c266ae')\"\n",
              "            title=\"Suggest charts\"\n",
              "            style=\"display:none;\">\n",
              "\n",
              "<svg xmlns=\"http://www.w3.org/2000/svg\" height=\"24px\"viewBox=\"0 0 24 24\"\n",
              "     width=\"24px\">\n",
              "    <g>\n",
              "        <path d=\"M19 3H5c-1.1 0-2 .9-2 2v14c0 1.1.9 2 2 2h14c1.1 0 2-.9 2-2V5c0-1.1-.9-2-2-2zM9 17H7v-7h2v7zm4 0h-2V7h2v10zm4 0h-2v-4h2v4z\"/>\n",
              "    </g>\n",
              "</svg>\n",
              "  </button>\n",
              "\n",
              "<style>\n",
              "  .colab-df-quickchart {\n",
              "      --bg-color: #E8F0FE;\n",
              "      --fill-color: #1967D2;\n",
              "      --hover-bg-color: #E2EBFA;\n",
              "      --hover-fill-color: #174EA6;\n",
              "      --disabled-fill-color: #AAA;\n",
              "      --disabled-bg-color: #DDD;\n",
              "  }\n",
              "\n",
              "  [theme=dark] .colab-df-quickchart {\n",
              "      --bg-color: #3B4455;\n",
              "      --fill-color: #D2E3FC;\n",
              "      --hover-bg-color: #434B5C;\n",
              "      --hover-fill-color: #FFFFFF;\n",
              "      --disabled-bg-color: #3B4455;\n",
              "      --disabled-fill-color: #666;\n",
              "  }\n",
              "\n",
              "  .colab-df-quickchart {\n",
              "    background-color: var(--bg-color);\n",
              "    border: none;\n",
              "    border-radius: 50%;\n",
              "    cursor: pointer;\n",
              "    display: none;\n",
              "    fill: var(--fill-color);\n",
              "    height: 32px;\n",
              "    padding: 0;\n",
              "    width: 32px;\n",
              "  }\n",
              "\n",
              "  .colab-df-quickchart:hover {\n",
              "    background-color: var(--hover-bg-color);\n",
              "    box-shadow: 0 1px 2px rgba(60, 64, 67, 0.3), 0 1px 3px 1px rgba(60, 64, 67, 0.15);\n",
              "    fill: var(--button-hover-fill-color);\n",
              "  }\n",
              "\n",
              "  .colab-df-quickchart-complete:disabled,\n",
              "  .colab-df-quickchart-complete:disabled:hover {\n",
              "    background-color: var(--disabled-bg-color);\n",
              "    fill: var(--disabled-fill-color);\n",
              "    box-shadow: none;\n",
              "  }\n",
              "\n",
              "  .colab-df-spinner {\n",
              "    border: 2px solid var(--fill-color);\n",
              "    border-color: transparent;\n",
              "    border-bottom-color: var(--fill-color);\n",
              "    animation:\n",
              "      spin 1s steps(1) infinite;\n",
              "  }\n",
              "\n",
              "  @keyframes spin {\n",
              "    0% {\n",
              "      border-color: transparent;\n",
              "      border-bottom-color: var(--fill-color);\n",
              "      border-left-color: var(--fill-color);\n",
              "    }\n",
              "    20% {\n",
              "      border-color: transparent;\n",
              "      border-left-color: var(--fill-color);\n",
              "      border-top-color: var(--fill-color);\n",
              "    }\n",
              "    30% {\n",
              "      border-color: transparent;\n",
              "      border-left-color: var(--fill-color);\n",
              "      border-top-color: var(--fill-color);\n",
              "      border-right-color: var(--fill-color);\n",
              "    }\n",
              "    40% {\n",
              "      border-color: transparent;\n",
              "      border-right-color: var(--fill-color);\n",
              "      border-top-color: var(--fill-color);\n",
              "    }\n",
              "    60% {\n",
              "      border-color: transparent;\n",
              "      border-right-color: var(--fill-color);\n",
              "    }\n",
              "    80% {\n",
              "      border-color: transparent;\n",
              "      border-right-color: var(--fill-color);\n",
              "      border-bottom-color: var(--fill-color);\n",
              "    }\n",
              "    90% {\n",
              "      border-color: transparent;\n",
              "      border-bottom-color: var(--fill-color);\n",
              "    }\n",
              "  }\n",
              "</style>\n",
              "\n",
              "  <script>\n",
              "    async function quickchart(key) {\n",
              "      const quickchartButtonEl =\n",
              "        document.querySelector('#' + key + ' button');\n",
              "      quickchartButtonEl.disabled = true;  // To prevent multiple clicks.\n",
              "      quickchartButtonEl.classList.add('colab-df-spinner');\n",
              "      try {\n",
              "        const charts = await google.colab.kernel.invokeFunction(\n",
              "            'suggestCharts', [key], {});\n",
              "      } catch (error) {\n",
              "        console.error('Error during call to suggestCharts:', error);\n",
              "      }\n",
              "      quickchartButtonEl.classList.remove('colab-df-spinner');\n",
              "      quickchartButtonEl.classList.add('colab-df-quickchart-complete');\n",
              "    }\n",
              "    (() => {\n",
              "      let quickchartButtonEl =\n",
              "        document.querySelector('#df-bc673c94-bfe1-4495-8b4d-afccc3c266ae button');\n",
              "      quickchartButtonEl.style.display =\n",
              "        google.colab.kernel.accessAllowed ? 'block' : 'none';\n",
              "    })();\n",
              "  </script>\n",
              "</div>\n",
              "\n",
              "    </div>\n",
              "  </div>\n"
            ],
            "application/vnd.google.colaboratory.intrinsic+json": {
              "type": "dataframe",
              "variable_name": "X_train"
            }
          },
          "metadata": {},
          "execution_count": 589
        }
      ]
    },
    {
      "cell_type": "code",
      "source": [
        "X_test.head()"
      ],
      "metadata": {
        "colab": {
          "base_uri": "https://localhost:8080/",
          "height": 206
        },
        "collapsed": true,
        "id": "mqs1dJyxX6c_",
        "outputId": "ff77f1aa-ddbb-4c06-c32d-2c0fd8caaf88"
      },
      "execution_count": null,
      "outputs": [
        {
          "output_type": "execute_result",
          "data": {
            "text/plain": [
              "    year  dayofweek   day^year  monthly_avg  rolling_mean\n",
              "0   2018          0  -6.597233    13.709677          21.5\n",
              "5   2018          1   1.692861    13.709677          20.4\n",
              "10  2018          2   5.879417    13.709677          18.8\n",
              "15  2018          3   8.565930    13.709677          19.8\n",
              "19  2018          4  10.497565    13.709677          23.4"
            ],
            "text/html": [
              "\n",
              "  <div id=\"df-8f43c07a-23c6-4408-9a59-b8898246cfd8\" class=\"colab-df-container\">\n",
              "    <div>\n",
              "<style scoped>\n",
              "    .dataframe tbody tr th:only-of-type {\n",
              "        vertical-align: middle;\n",
              "    }\n",
              "\n",
              "    .dataframe tbody tr th {\n",
              "        vertical-align: top;\n",
              "    }\n",
              "\n",
              "    .dataframe thead th {\n",
              "        text-align: right;\n",
              "    }\n",
              "</style>\n",
              "<table border=\"1\" class=\"dataframe\">\n",
              "  <thead>\n",
              "    <tr style=\"text-align: right;\">\n",
              "      <th></th>\n",
              "      <th>year</th>\n",
              "      <th>dayofweek</th>\n",
              "      <th>day^year</th>\n",
              "      <th>monthly_avg</th>\n",
              "      <th>rolling_mean</th>\n",
              "    </tr>\n",
              "  </thead>\n",
              "  <tbody>\n",
              "    <tr>\n",
              "      <th>0</th>\n",
              "      <td>2018</td>\n",
              "      <td>0</td>\n",
              "      <td>-6.597233</td>\n",
              "      <td>13.709677</td>\n",
              "      <td>21.5</td>\n",
              "    </tr>\n",
              "    <tr>\n",
              "      <th>5</th>\n",
              "      <td>2018</td>\n",
              "      <td>1</td>\n",
              "      <td>1.692861</td>\n",
              "      <td>13.709677</td>\n",
              "      <td>20.4</td>\n",
              "    </tr>\n",
              "    <tr>\n",
              "      <th>10</th>\n",
              "      <td>2018</td>\n",
              "      <td>2</td>\n",
              "      <td>5.879417</td>\n",
              "      <td>13.709677</td>\n",
              "      <td>18.8</td>\n",
              "    </tr>\n",
              "    <tr>\n",
              "      <th>15</th>\n",
              "      <td>2018</td>\n",
              "      <td>3</td>\n",
              "      <td>8.565930</td>\n",
              "      <td>13.709677</td>\n",
              "      <td>19.8</td>\n",
              "    </tr>\n",
              "    <tr>\n",
              "      <th>19</th>\n",
              "      <td>2018</td>\n",
              "      <td>4</td>\n",
              "      <td>10.497565</td>\n",
              "      <td>13.709677</td>\n",
              "      <td>23.4</td>\n",
              "    </tr>\n",
              "  </tbody>\n",
              "</table>\n",
              "</div>\n",
              "    <div class=\"colab-df-buttons\">\n",
              "\n",
              "  <div class=\"colab-df-container\">\n",
              "    <button class=\"colab-df-convert\" onclick=\"convertToInteractive('df-8f43c07a-23c6-4408-9a59-b8898246cfd8')\"\n",
              "            title=\"Convert this dataframe to an interactive table.\"\n",
              "            style=\"display:none;\">\n",
              "\n",
              "  <svg xmlns=\"http://www.w3.org/2000/svg\" height=\"24px\" viewBox=\"0 -960 960 960\">\n",
              "    <path d=\"M120-120v-720h720v720H120Zm60-500h600v-160H180v160Zm220 220h160v-160H400v160Zm0 220h160v-160H400v160ZM180-400h160v-160H180v160Zm440 0h160v-160H620v160ZM180-180h160v-160H180v160Zm440 0h160v-160H620v160Z\"/>\n",
              "  </svg>\n",
              "    </button>\n",
              "\n",
              "  <style>\n",
              "    .colab-df-container {\n",
              "      display:flex;\n",
              "      gap: 12px;\n",
              "    }\n",
              "\n",
              "    .colab-df-convert {\n",
              "      background-color: #E8F0FE;\n",
              "      border: none;\n",
              "      border-radius: 50%;\n",
              "      cursor: pointer;\n",
              "      display: none;\n",
              "      fill: #1967D2;\n",
              "      height: 32px;\n",
              "      padding: 0 0 0 0;\n",
              "      width: 32px;\n",
              "    }\n",
              "\n",
              "    .colab-df-convert:hover {\n",
              "      background-color: #E2EBFA;\n",
              "      box-shadow: 0px 1px 2px rgba(60, 64, 67, 0.3), 0px 1px 3px 1px rgba(60, 64, 67, 0.15);\n",
              "      fill: #174EA6;\n",
              "    }\n",
              "\n",
              "    .colab-df-buttons div {\n",
              "      margin-bottom: 4px;\n",
              "    }\n",
              "\n",
              "    [theme=dark] .colab-df-convert {\n",
              "      background-color: #3B4455;\n",
              "      fill: #D2E3FC;\n",
              "    }\n",
              "\n",
              "    [theme=dark] .colab-df-convert:hover {\n",
              "      background-color: #434B5C;\n",
              "      box-shadow: 0px 1px 3px 1px rgba(0, 0, 0, 0.15);\n",
              "      filter: drop-shadow(0px 1px 2px rgba(0, 0, 0, 0.3));\n",
              "      fill: #FFFFFF;\n",
              "    }\n",
              "  </style>\n",
              "\n",
              "    <script>\n",
              "      const buttonEl =\n",
              "        document.querySelector('#df-8f43c07a-23c6-4408-9a59-b8898246cfd8 button.colab-df-convert');\n",
              "      buttonEl.style.display =\n",
              "        google.colab.kernel.accessAllowed ? 'block' : 'none';\n",
              "\n",
              "      async function convertToInteractive(key) {\n",
              "        const element = document.querySelector('#df-8f43c07a-23c6-4408-9a59-b8898246cfd8');\n",
              "        const dataTable =\n",
              "          await google.colab.kernel.invokeFunction('convertToInteractive',\n",
              "                                                    [key], {});\n",
              "        if (!dataTable) return;\n",
              "\n",
              "        const docLinkHtml = 'Like what you see? Visit the ' +\n",
              "          '<a target=\"_blank\" href=https://colab.research.google.com/notebooks/data_table.ipynb>data table notebook</a>'\n",
              "          + ' to learn more about interactive tables.';\n",
              "        element.innerHTML = '';\n",
              "        dataTable['output_type'] = 'display_data';\n",
              "        await google.colab.output.renderOutput(dataTable, element);\n",
              "        const docLink = document.createElement('div');\n",
              "        docLink.innerHTML = docLinkHtml;\n",
              "        element.appendChild(docLink);\n",
              "      }\n",
              "    </script>\n",
              "  </div>\n",
              "\n",
              "\n",
              "<div id=\"df-5626d872-4859-4f94-8b4e-c19381f0e4fa\">\n",
              "  <button class=\"colab-df-quickchart\" onclick=\"quickchart('df-5626d872-4859-4f94-8b4e-c19381f0e4fa')\"\n",
              "            title=\"Suggest charts\"\n",
              "            style=\"display:none;\">\n",
              "\n",
              "<svg xmlns=\"http://www.w3.org/2000/svg\" height=\"24px\"viewBox=\"0 0 24 24\"\n",
              "     width=\"24px\">\n",
              "    <g>\n",
              "        <path d=\"M19 3H5c-1.1 0-2 .9-2 2v14c0 1.1.9 2 2 2h14c1.1 0 2-.9 2-2V5c0-1.1-.9-2-2-2zM9 17H7v-7h2v7zm4 0h-2V7h2v10zm4 0h-2v-4h2v4z\"/>\n",
              "    </g>\n",
              "</svg>\n",
              "  </button>\n",
              "\n",
              "<style>\n",
              "  .colab-df-quickchart {\n",
              "      --bg-color: #E8F0FE;\n",
              "      --fill-color: #1967D2;\n",
              "      --hover-bg-color: #E2EBFA;\n",
              "      --hover-fill-color: #174EA6;\n",
              "      --disabled-fill-color: #AAA;\n",
              "      --disabled-bg-color: #DDD;\n",
              "  }\n",
              "\n",
              "  [theme=dark] .colab-df-quickchart {\n",
              "      --bg-color: #3B4455;\n",
              "      --fill-color: #D2E3FC;\n",
              "      --hover-bg-color: #434B5C;\n",
              "      --hover-fill-color: #FFFFFF;\n",
              "      --disabled-bg-color: #3B4455;\n",
              "      --disabled-fill-color: #666;\n",
              "  }\n",
              "\n",
              "  .colab-df-quickchart {\n",
              "    background-color: var(--bg-color);\n",
              "    border: none;\n",
              "    border-radius: 50%;\n",
              "    cursor: pointer;\n",
              "    display: none;\n",
              "    fill: var(--fill-color);\n",
              "    height: 32px;\n",
              "    padding: 0;\n",
              "    width: 32px;\n",
              "  }\n",
              "\n",
              "  .colab-df-quickchart:hover {\n",
              "    background-color: var(--hover-bg-color);\n",
              "    box-shadow: 0 1px 2px rgba(60, 64, 67, 0.3), 0 1px 3px 1px rgba(60, 64, 67, 0.15);\n",
              "    fill: var(--button-hover-fill-color);\n",
              "  }\n",
              "\n",
              "  .colab-df-quickchart-complete:disabled,\n",
              "  .colab-df-quickchart-complete:disabled:hover {\n",
              "    background-color: var(--disabled-bg-color);\n",
              "    fill: var(--disabled-fill-color);\n",
              "    box-shadow: none;\n",
              "  }\n",
              "\n",
              "  .colab-df-spinner {\n",
              "    border: 2px solid var(--fill-color);\n",
              "    border-color: transparent;\n",
              "    border-bottom-color: var(--fill-color);\n",
              "    animation:\n",
              "      spin 1s steps(1) infinite;\n",
              "  }\n",
              "\n",
              "  @keyframes spin {\n",
              "    0% {\n",
              "      border-color: transparent;\n",
              "      border-bottom-color: var(--fill-color);\n",
              "      border-left-color: var(--fill-color);\n",
              "    }\n",
              "    20% {\n",
              "      border-color: transparent;\n",
              "      border-left-color: var(--fill-color);\n",
              "      border-top-color: var(--fill-color);\n",
              "    }\n",
              "    30% {\n",
              "      border-color: transparent;\n",
              "      border-left-color: var(--fill-color);\n",
              "      border-top-color: var(--fill-color);\n",
              "      border-right-color: var(--fill-color);\n",
              "    }\n",
              "    40% {\n",
              "      border-color: transparent;\n",
              "      border-right-color: var(--fill-color);\n",
              "      border-top-color: var(--fill-color);\n",
              "    }\n",
              "    60% {\n",
              "      border-color: transparent;\n",
              "      border-right-color: var(--fill-color);\n",
              "    }\n",
              "    80% {\n",
              "      border-color: transparent;\n",
              "      border-right-color: var(--fill-color);\n",
              "      border-bottom-color: var(--fill-color);\n",
              "    }\n",
              "    90% {\n",
              "      border-color: transparent;\n",
              "      border-bottom-color: var(--fill-color);\n",
              "    }\n",
              "  }\n",
              "</style>\n",
              "\n",
              "  <script>\n",
              "    async function quickchart(key) {\n",
              "      const quickchartButtonEl =\n",
              "        document.querySelector('#' + key + ' button');\n",
              "      quickchartButtonEl.disabled = true;  // To prevent multiple clicks.\n",
              "      quickchartButtonEl.classList.add('colab-df-spinner');\n",
              "      try {\n",
              "        const charts = await google.colab.kernel.invokeFunction(\n",
              "            'suggestCharts', [key], {});\n",
              "      } catch (error) {\n",
              "        console.error('Error during call to suggestCharts:', error);\n",
              "      }\n",
              "      quickchartButtonEl.classList.remove('colab-df-spinner');\n",
              "      quickchartButtonEl.classList.add('colab-df-quickchart-complete');\n",
              "    }\n",
              "    (() => {\n",
              "      let quickchartButtonEl =\n",
              "        document.querySelector('#df-5626d872-4859-4f94-8b4e-c19381f0e4fa button');\n",
              "      quickchartButtonEl.style.display =\n",
              "        google.colab.kernel.accessAllowed ? 'block' : 'none';\n",
              "    })();\n",
              "  </script>\n",
              "</div>\n",
              "\n",
              "    </div>\n",
              "  </div>\n"
            ],
            "application/vnd.google.colaboratory.intrinsic+json": {
              "type": "dataframe",
              "variable_name": "X_test",
              "summary": "{\n  \"name\": \"X_test\",\n  \"rows\": 45000,\n  \"fields\": [\n    {\n      \"column\": \"year\",\n      \"properties\": {\n        \"dtype\": \"int32\",\n        \"num_unique_values\": 1,\n        \"samples\": [\n          2018\n        ],\n        \"semantic_type\": \"\",\n        \"description\": \"\"\n      }\n    },\n    {\n      \"column\": \"dayofweek\",\n      \"properties\": {\n        \"dtype\": \"int32\",\n        \"num_unique_values\": 7,\n        \"samples\": [\n          0\n        ],\n        \"semantic_type\": \"\",\n        \"description\": \"\"\n      }\n    },\n    {\n      \"column\": \"day^year\",\n      \"properties\": {\n        \"dtype\": \"number\",\n        \"std\": 5.787581073970553,\n        \"min\": -6.597232570469958,\n        \"max\": 27.116778839374255,\n        \"num_unique_values\": 90,\n        \"samples\": [\n          23.73232176909591\n        ],\n        \"semantic_type\": \"\",\n        \"description\": \"\"\n      }\n    },\n    {\n      \"column\": \"monthly_avg\",\n      \"properties\": {\n        \"dtype\": \"number\",\n        \"std\": 19.559419083428708,\n        \"min\": 9.219354838709677,\n        \"max\": 102.47096774193548,\n        \"num_unique_values\": 1431,\n        \"samples\": [\n          16.412903225806453\n        ],\n        \"semantic_type\": \"\",\n        \"description\": \"\"\n      }\n    },\n    {\n      \"column\": \"rolling_mean\",\n      \"properties\": {\n        \"dtype\": \"number\",\n        \"std\": 26.73900972429558,\n        \"min\": 9.8,\n        \"max\": 140.6,\n        \"num_unique_values\": 1250,\n        \"samples\": [\n          41.7\n        ],\n        \"semantic_type\": \"\",\n        \"description\": \"\"\n      }\n    }\n  ]\n}"
            }
          },
          "metadata": {},
          "execution_count": 590
        }
      ]
    },
    {
      "source": [
        "# prompt: train a model using for the train dataset to predict sales\n",
        "df_train = train.copy()\n",
        "\n",
        "X_train , X_test ,y_train, y_test = train_test_split(df_train.drop('sales',axis=1),df_train.pop('sales'), random_state=123, test_size=0.2)\n",
        "\n",
        "# XGB Model\n",
        "matrix_train = xgb.DMatrix(X_train, label = y_train)\n",
        "matrix_test = xgb.DMatrix(X_test, label = y_test)\n",
        "\n",
        "# Run XGB\n",
        "params = {'objective': 'reg:linear', 'eval_metric': 'mae', 'eta': 0.3, 'gamma': 0.1, 'max_depth': 6, 'min_child_weight': 1, 'subsample': 0.8}\n",
        "\n",
        "model = xgb.train(params, dtrain=matrix_train, num_boost_round=500, early_stopping_rounds=100, evals=[(matrix_test, 'test')])\n",
        "# Convert X_test to DMatrix before prediction\n",
        "test_matrix = xgb.DMatrix(X_test)  # Create DMatrix for X_test\n",
        "y_pred = model.predict(test_matrix)  # Use DMatrix for prediction\n",
        "\n",
        "print(\"Mean Squared Error (MSE):\", mean_squared_error(y_test, y_pred))\n",
        "print(\"Mean Absolute Error (MAE):\", mean_absolute_error(y_test, y_pred))\n",
        "print(\"Root Mean Squared Error (RMSE):\", np.sqrt(mean_squared_error(y_test, y_pred)))\n",
        "print(\"R-squared:\", r2_score(y_test, y_pred))"
      ],
      "cell_type": "code",
      "metadata": {
        "colab": {
          "base_uri": "https://localhost:8080/"
        },
        "collapsed": true,
        "id": "IzfU_DncZd3Z",
        "outputId": "0944f7af-6d49-48c1-9bcc-429a7baa6b07"
      },
      "execution_count": null,
      "outputs": [
        {
          "output_type": "stream",
          "name": "stderr",
          "text": [
            "/usr/local/lib/python3.10/dist-packages/xgboost/core.py:160: UserWarning: [19:28:09] WARNING: /workspace/src/objective/regression_obj.cu:209: reg:linear is now deprecated in favor of reg:squarederror.\n",
            "  warnings.warn(smsg, UserWarning)\n"
          ]
        },
        {
          "output_type": "stream",
          "name": "stdout",
          "text": [
            "[0]\ttest-mae:16.82748\n",
            "[1]\ttest-mae:12.55321\n",
            "[2]\ttest-mae:9.73911\n",
            "[3]\ttest-mae:7.98771\n",
            "[4]\ttest-mae:6.93883\n",
            "[5]\ttest-mae:6.33987\n",
            "[6]\ttest-mae:6.00356\n",
            "[7]\ttest-mae:5.82338\n",
            "[8]\ttest-mae:5.72500\n",
            "[9]\ttest-mae:5.67166\n",
            "[10]\ttest-mae:5.64207\n",
            "[11]\ttest-mae:5.62630\n",
            "[12]\ttest-mae:5.61667\n",
            "[13]\ttest-mae:5.61120\n",
            "[14]\ttest-mae:5.60790\n",
            "[15]\ttest-mae:5.60522\n",
            "[16]\ttest-mae:5.60363\n",
            "[17]\ttest-mae:5.60254\n",
            "[18]\ttest-mae:5.60129\n",
            "[19]\ttest-mae:5.60048\n",
            "[20]\ttest-mae:5.59944\n",
            "[21]\ttest-mae:5.59883\n",
            "[22]\ttest-mae:5.59840\n",
            "[23]\ttest-mae:5.59809\n",
            "[24]\ttest-mae:5.59764\n",
            "[25]\ttest-mae:5.59735\n",
            "[26]\ttest-mae:5.59670\n",
            "[27]\ttest-mae:5.59613\n",
            "[28]\ttest-mae:5.59610\n",
            "[29]\ttest-mae:5.59600\n",
            "[30]\ttest-mae:5.59555\n",
            "[31]\ttest-mae:5.59551\n",
            "[32]\ttest-mae:5.59522\n",
            "[33]\ttest-mae:5.59485\n",
            "[34]\ttest-mae:5.59447\n",
            "[35]\ttest-mae:5.59415\n",
            "[36]\ttest-mae:5.59418\n",
            "[37]\ttest-mae:5.59426\n",
            "[38]\ttest-mae:5.59384\n",
            "[39]\ttest-mae:5.59367\n",
            "[40]\ttest-mae:5.59365\n",
            "[41]\ttest-mae:5.59390\n",
            "[42]\ttest-mae:5.59401\n",
            "[43]\ttest-mae:5.59377\n",
            "[44]\ttest-mae:5.59370\n",
            "[45]\ttest-mae:5.59390\n",
            "[46]\ttest-mae:5.59393\n",
            "[47]\ttest-mae:5.59411\n",
            "[48]\ttest-mae:5.59389\n",
            "[49]\ttest-mae:5.59397\n",
            "[50]\ttest-mae:5.59384\n",
            "[51]\ttest-mae:5.59405\n",
            "[52]\ttest-mae:5.59400\n",
            "[53]\ttest-mae:5.59386\n",
            "[54]\ttest-mae:5.59378\n",
            "[55]\ttest-mae:5.59385\n",
            "[56]\ttest-mae:5.59371\n",
            "[57]\ttest-mae:5.59388\n",
            "[58]\ttest-mae:5.59386\n",
            "[59]\ttest-mae:5.59416\n",
            "[60]\ttest-mae:5.59366\n",
            "[61]\ttest-mae:5.59385\n",
            "[62]\ttest-mae:5.59381\n",
            "[63]\ttest-mae:5.59370\n",
            "[64]\ttest-mae:5.59393\n",
            "[65]\ttest-mae:5.59421\n",
            "[66]\ttest-mae:5.59419\n",
            "[67]\ttest-mae:5.59438\n",
            "[68]\ttest-mae:5.59449\n",
            "[69]\ttest-mae:5.59450\n",
            "[70]\ttest-mae:5.59461\n",
            "[71]\ttest-mae:5.59471\n",
            "[72]\ttest-mae:5.59483\n",
            "[73]\ttest-mae:5.59497\n",
            "[74]\ttest-mae:5.59496\n",
            "[75]\ttest-mae:5.59486\n",
            "[76]\ttest-mae:5.59492\n",
            "[77]\ttest-mae:5.59478\n",
            "[78]\ttest-mae:5.59501\n",
            "[79]\ttest-mae:5.59508\n",
            "[80]\ttest-mae:5.59487\n",
            "[81]\ttest-mae:5.59472\n",
            "[82]\ttest-mae:5.59491\n",
            "[83]\ttest-mae:5.59501\n",
            "[84]\ttest-mae:5.59498\n",
            "[85]\ttest-mae:5.59522\n",
            "[86]\ttest-mae:5.59531\n",
            "[87]\ttest-mae:5.59537\n",
            "[88]\ttest-mae:5.59529\n",
            "[89]\ttest-mae:5.59542\n",
            "[90]\ttest-mae:5.59550\n",
            "[91]\ttest-mae:5.59566\n",
            "[92]\ttest-mae:5.59576\n",
            "[93]\ttest-mae:5.59574\n",
            "[94]\ttest-mae:5.59583\n",
            "[95]\ttest-mae:5.59590\n",
            "[96]\ttest-mae:5.59596\n",
            "[97]\ttest-mae:5.59611\n",
            "[98]\ttest-mae:5.59619\n",
            "[99]\ttest-mae:5.59632\n",
            "[100]\ttest-mae:5.59640\n",
            "[101]\ttest-mae:5.59630\n",
            "[102]\ttest-mae:5.59642\n",
            "[103]\ttest-mae:5.59641\n",
            "[104]\ttest-mae:5.59639\n",
            "[105]\ttest-mae:5.59635\n",
            "[106]\ttest-mae:5.59654\n",
            "[107]\ttest-mae:5.59652\n",
            "[108]\ttest-mae:5.59647\n",
            "[109]\ttest-mae:5.59659\n",
            "[110]\ttest-mae:5.59678\n",
            "[111]\ttest-mae:5.59703\n",
            "[112]\ttest-mae:5.59720\n",
            "[113]\ttest-mae:5.59707\n",
            "[114]\ttest-mae:5.59726\n",
            "[115]\ttest-mae:5.59734\n",
            "[116]\ttest-mae:5.59743\n",
            "[117]\ttest-mae:5.59745\n",
            "[118]\ttest-mae:5.59746\n",
            "[119]\ttest-mae:5.59754\n",
            "[120]\ttest-mae:5.59775\n",
            "[121]\ttest-mae:5.59772\n",
            "[122]\ttest-mae:5.59786\n",
            "[123]\ttest-mae:5.59786\n",
            "[124]\ttest-mae:5.59797\n",
            "[125]\ttest-mae:5.59784\n",
            "[126]\ttest-mae:5.59785\n",
            "[127]\ttest-mae:5.59786\n",
            "[128]\ttest-mae:5.59777\n",
            "[129]\ttest-mae:5.59785\n",
            "[130]\ttest-mae:5.59785\n",
            "[131]\ttest-mae:5.59794\n",
            "[132]\ttest-mae:5.59820\n",
            "[133]\ttest-mae:5.59832\n",
            "[134]\ttest-mae:5.59816\n",
            "[135]\ttest-mae:5.59808\n",
            "[136]\ttest-mae:5.59816\n",
            "[137]\ttest-mae:5.59832\n",
            "[138]\ttest-mae:5.59839\n",
            "[139]\ttest-mae:5.59837\n",
            "Mean Squared Error (MSE): 52.93777843285481\n",
            "Mean Absolute Error (MAE): 5.598398102446344\n",
            "Root Mean Squared Error (RMSE): 7.27583523953469\n",
            "R-squared: 0.9358558807152947\n"
          ]
        }
      ]
    },
    {
      "cell_type": "code",
      "source": [
        "# prompt: what are features of the above model\n",
        "X = train.drop('sales', axis=1)\n",
        "features = X.columns.tolist()\n",
        "print(features)"
      ],
      "metadata": {
        "colab": {
          "base_uri": "https://localhost:8080/"
        },
        "id": "S1hCKrWePqtY",
        "outputId": "8c9bc165-040a-424a-dbad-d53db849d903"
      },
      "execution_count": null,
      "outputs": [
        {
          "output_type": "stream",
          "name": "stdout",
          "text": [
            "['year', 'dayofweek', 'day^year', 'monthly_avg', 'rolling_mean']\n"
          ]
        }
      ]
    },
    {
      "source": [
        "import xgboost as xgb\n",
        "\n",
        "# Use the original DataFrame X, not the DMatrix\n",
        "test_matrix = xgb.DMatrix(train.drop('sales', axis=1))  # Create DMatrix for X_test\n",
        "y_pred = model.predict(test_matrix)  # Use DMatrix for prediction\n",
        "print(y_pred)"
      ],
      "cell_type": "code",
      "metadata": {
        "colab": {
          "base_uri": "https://localhost:8080/"
        },
        "id": "lwq0nv_CWLiA",
        "outputId": "7a3a48e6-ceaf-474f-e10f-4a3e1f324001"
      },
      "execution_count": null,
      "outputs": [
        {
          "output_type": "stream",
          "name": "stdout",
          "text": [
            "[16.034086 17.058565 18.302404 ... 69.25647  73.190605 75.7297  ]\n"
          ]
        }
      ]
    },
    {
      "cell_type": "code",
      "source": [
        "np.shape(y_pred)\n"
      ],
      "metadata": {
        "colab": {
          "base_uri": "https://localhost:8080/"
        },
        "id": "qZksHEV8XWnu",
        "outputId": "623272d0-ca47-4e74-ff81-9e06ac62f956"
      },
      "execution_count": null,
      "outputs": [
        {
          "output_type": "execute_result",
          "data": {
            "text/plain": [
              "(908050,)"
            ]
          },
          "metadata": {},
          "execution_count": 594
        }
      ]
    },
    {
      "cell_type": "code",
      "source": [
        "np.shape(train['sales'])"
      ],
      "metadata": {
        "colab": {
          "base_uri": "https://localhost:8080/"
        },
        "id": "Fg0TF1t9XgRe",
        "outputId": "2f10483a-8895-4f95-a92a-d773662ff01f"
      },
      "execution_count": null,
      "outputs": [
        {
          "output_type": "execute_result",
          "data": {
            "text/plain": [
              "(908050,)"
            ]
          },
          "metadata": {},
          "execution_count": 595
        }
      ]
    },
    {
      "cell_type": "code",
      "source": [
        "arr = train['sales'].to_numpy()\n",
        "arr"
      ],
      "metadata": {
        "colab": {
          "base_uri": "https://localhost:8080/"
        },
        "id": "aJSrtwF6bHS_",
        "outputId": "faa87d8b-69d1-4ff3-93f1-a9832f6ba51c"
      },
      "execution_count": null,
      "outputs": [
        {
          "output_type": "execute_result",
          "data": {
            "text/plain": [
              "array([19, 16, 18, ..., 74, 62, 82])"
            ]
          },
          "metadata": {},
          "execution_count": 596
        }
      ]
    },
    {
      "cell_type": "code",
      "source": [
        "# prompt: plot a graph of sales\n",
        "\n",
        "plt.figure(figsize=(10, 6))\n",
        "plt.plot(arr[0::25000], label = 'actual')\n",
        "plt.plot(y_pred[0::25000], label = 'predicted')\n",
        "plt.xlabel('Index     ')\n",
        "plt.ylabel('Sales')\n",
        "plt.title('Sales over Time')\n",
        "plt.legend()\n",
        "plt.show()"
      ],
      "metadata": {
        "colab": {
          "base_uri": "https://localhost:8080/",
          "height": 564
        },
        "id": "YrGYeWnCURa-",
        "outputId": "ff25cdb8-56c8-4d56-b5ac-e2c00a3ced54"
      },
      "execution_count": null,
      "outputs": [
        {
          "output_type": "display_data",
          "data": {
            "text/plain": [
              "<Figure size 1000x600 with 1 Axes>"
            ],
            "image/png": "[encoded data removed]"
          },
          "metadata": {}
        }
      ]
    },
    {
      "cell_type": "code",
      "source": [],
      "metadata": {
        "id": "slD8kIUfUqBD"
      },
      "execution_count": null,
      "outputs": []
    }
  ]
}